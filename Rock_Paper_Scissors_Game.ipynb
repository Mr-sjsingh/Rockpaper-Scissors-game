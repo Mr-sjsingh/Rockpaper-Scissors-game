{
 "cells": [
  {
   "cell_type": "markdown",
   "metadata": {},
   "source": [
    "Rock Paper Scissors Game"
   ]
  },
  {
   "cell_type": "markdown",
   "metadata": {},
   "source": [
    "By: Simranjeet Singh"
   ]
  },
  {
   "cell_type": "code",
   "execution_count": 1,
   "metadata": {},
   "outputs": [],
   "source": [
    " # Importing Random module to use Randint \n",
    "from random import randint                          "
   ]
  },
  {
   "cell_type": "code",
   "execution_count": 2,
   "metadata": {},
   "outputs": [
    {
     "name": "stdout",
     "output_type": "stream",
     "text": [
      "Please choose Rock('r'),Paper('p'),Scissor('s'): r\n",
      "Computer Chose Scissors\n",
      "\n",
      "You Chose Rock\n",
      "\n",
      "As Rock beats Scissors, You win!\n"
     ]
    }
   ],
   "source": [
    "# Initializing variables\n",
    "\n",
    "num1=randint(1, 3)                              \n",
    "user_input=input(\"Please choose Rock('r'),Paper('p'),Scissor('s'): \")\n",
    "computer_input=\"\"\n",
    "\n",
    " # Assigning Rock, Paper, Scissors to the variables\n",
    "    \n",
    "if num1==1:\n",
    "    computer_input=\"Rock\"\n",
    "elif num1==2:\n",
    "    computer_input=\"Paper\"\n",
    "elif num1==3:\n",
    "    computer_input=\"Scissors\" \n",
    "\n",
    "if user_input==\"r\":\n",
    "    user_input=\"Rock\"\n",
    "elif user_input==\"p\":\n",
    "    user_input=\"Paper\"\n",
    "elif user_input==\"s\":\n",
    "    user_input=\"Scissors\" \n",
    "\n",
    "print(f\"Computer Chose {computer_input}\\n\")\n",
    "print(f\"You Chose {user_input}\\n\")\n",
    "\n",
    "# Comparing Inputs and Getting Final Result\n",
    "\n",
    "if user_input==\"Rock\":                                                     \n",
    "    if computer_input=='Rock':\n",
    "        print(\"Both chose 'ROCK' so it's a tie\")\n",
    "    elif computer_input==\"Paper\":\n",
    "        print(\"As Paper beats Rock Computer wins!\")\n",
    "    elif computer_input==\"Scissors\":\n",
    "        print(\"As Rock beats Scissors, You win!\")\n",
    "elif user_input==\"Paper\":\n",
    "    if computer_input=='Paper':\n",
    "        print(\"Both chose 'Paper' so it's a tie\")\n",
    "    elif computer_input==\"Rock\":\n",
    "        print(\"As Paper beats Rock You win!\")\n",
    "    elif computer_input==\"Scissors\":\n",
    "        print(\"As Scissors beats Paper, Computer wins!\")\n",
    "elif user_input==\"Scissors\":\n",
    "    if computer_input=='Scissors':\n",
    "        print(\"Both chose 'Scissors' so it's a tie\")\n",
    "    elif computer_input==\"Rock\":\n",
    "        print(\"As Rock beats Scissors, Computer wins!\")\n",
    "    elif computer_input==\"Paper\":\n",
    "        print(\"As Scissors beats Paper, You win!\")"
   ]
  },
  {
   "cell_type": "code",
   "execution_count": null,
   "metadata": {},
   "outputs": [],
   "source": []
  }
 ],
 "metadata": {
  "kernelspec": {
   "display_name": "Python 3",
   "language": "python",
   "name": "python3"
  },
  "language_info": {
   "codemirror_mode": {
    "name": "ipython",
    "version": 3
   },
   "file_extension": ".py",
   "mimetype": "text/x-python",
   "name": "python",
   "nbconvert_exporter": "python",
   "pygments_lexer": "ipython3",
   "version": "3.8.5"
  }
 },
 "nbformat": 4,
 "nbformat_minor": 4
}
